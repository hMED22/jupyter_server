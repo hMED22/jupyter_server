{
 "cells": [
  {
   "cell_type": "code",
   "execution_count": 1,
   "metadata": {
    "collapsed": false
   },
   "outputs": [
    {
     "name": "stdout",
     "output_type": "stream",
     "text": [
      "CONTRIBUTING.md   \u001b[34m__pycache__\u001b[39;49m\u001b[0m       \u001b[34mnode_modules\u001b[39;49m\u001b[0m      \u001b[34mscripts\u001b[39;49m\u001b[0m\n",
      "COPYING.md        bower.json        \u001b[34mnotebook\u001b[39;49m\u001b[0m          setup.cfg\n",
      "Dockerfile        \u001b[34mbuild\u001b[39;49m\u001b[0m             \u001b[34mnotebook.egg-info\u001b[39;49m\u001b[0m \u001b[31msetup.py\u001b[39;49m\u001b[0m\n",
      "MANIFEST.in       circle.yml        package.json      setupbase.py\n",
      "README.md         \u001b[34mdocs\u001b[39;49m\u001b[0m              readthedocs.yml   \u001b[34mtools\u001b[39;49m\u001b[0m\n",
      "Untitled.ipynb    \u001b[34mgit-hooks\u001b[39;49m\u001b[0m         \u001b[34mruntime_dir\u001b[39;49m\u001b[0m\n"
     ]
    }
   ],
   "source": [
    "ls"
   ]
  },
  {
   "cell_type": "code",
   "execution_count": null,
   "metadata": {
    "collapsed": true
   },
   "outputs": [],
   "source": []
  }
 ],
 "metadata": {
  "kernelspec": {
   "display_name": "Calysto Bash",
   "language": "bash",
   "name": "calysto_bash"
  },
  "language_info": {
   "codemirror_mode": "shell",
   "file_extension": ".sh",
   "help_links": [
    {
     "text": "MetaKernel Magics",
     "url": "https://github.com/calysto/metakernel/blob/master/metakernel/magics/README.md"
    }
   ],
   "mimetype": "text/x-bash",
   "name": "bash",
   "version": "0.1.0"
  }
 },
 "nbformat": 4,
 "nbformat_minor": 0
}
